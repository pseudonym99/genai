{
 "cells": [
  {
   "cell_type": "code",
   "execution_count": 1,
   "metadata": {},
   "outputs": [],
   "source": [
    "%load_ext autoreload\n",
    "%autoreload 2\n",
    "\n",
    "from pathlib import Path\n",
    "import os\n",
    "\n",
    "os.chdir(Path.cwd().parent.resolve())"
   ]
  },
  {
   "cell_type": "code",
   "execution_count": 4,
   "metadata": {},
   "outputs": [
    {
     "name": "stdout",
     "output_type": "stream",
     "text": [
      "Heute ist der 13. April 2025.\n",
      "\n"
     ]
    }
   ],
   "source": [
    "from src.genai.assistant import assistant_agent\n",
    "\n",
    "result = await assistant_agent.run(\n",
    "    \"Welches Datum ist heute?\"\n",
    ")\n",
    "print(result.data)"
   ]
  },
  {
   "cell_type": "code",
   "execution_count": 24,
   "metadata": {},
   "outputs": [
    {
     "data": {
      "text/plain": [
       "Tool(function=<bound method DuckDuckGoSearchTool.__call__ of DuckDuckGoSearchTool(client=<duckduckgo_search.duckduckgo_search.DDGS object at 0x7ffec86f0350>, max_results=None)>, takes_ctx=False, max_retries=None, name='duckduckgo_search', description='Searches DuckDuckGo for the given query and returns the results.', prepare=None, docstring_format='auto', require_parameter_descriptions=False, strict=None, _is_async=True, _single_arg_name=None, _positional_fields=[], _var_positional_field=None, _base_parameters_json_schema={'additionalProperties': False, 'properties': {'query': {'description': 'The query to search for.', 'type': 'string'}}, 'required': ['query'], 'type': 'object'}, current_retry=0)"
      ]
     },
     "execution_count": 24,
     "metadata": {},
     "output_type": "execute_result"
    }
   ],
   "source": [
    "from src.genai.assistant import duckduckgo_search_tool\n",
    "\n",
    "duckduckgo_search_tool()"
   ]
  },
  {
   "cell_type": "code",
   "execution_count": 5,
   "metadata": {},
   "outputs": [
    {
     "data": {
      "text/plain": [
       "[ModelRequest(parts=[SystemPromptPart(content='# Rolle und Ziel:\\n        Du bist ein hilfreicher und vielseitiger KI-Assistent. Deine Hauptaufgabe ist es, Benutzeranfragen über einen\\n        Telegram-Kanal entgegenzunehmen und bestmöglich zu beantworten. Ziel ist es, klare, präzise und nützliche\\n        Informationen oder Unterstützung zu liefern.\\n\\n        # Ausgabekanal und Formatierung:\\n        Deine Antworten werden als Nachrichten in einem Telegram-Kanal veröffentlicht. Das bedeutet:\\n\\n        Nachrichtenformat: Formatiere deine Antworten so, dass sie in Telegram gut lesbar sind. Nutze kurze Absätze.\\n        Markdown: Verwende Telegrams Markdown-Formatierung (z.B. *fett*, _kursiv_, `Code`, [Link-Text](URL)), um\\n        wichtige Teile hervorzuheben, die Lesbarkeit zu verbessern oder Links zu teilen. Übertreibe es aber nicht.\\n        Länge: Vermeide extrem lange Nachrichtenblöcke. Wenn eine Antwort komplex ist, überlege, ob du sie logisch in\\n        mehrere, aufeinanderfolgende Nachrichten aufteilen kannst. Jede Nachricht sollte für sich genommen Sinn\\n        ergeben, aber Teil einer kohärenten Antwort sein.\\n        Wichtig: Es wird Markdown V2 verwendet, also achte darauf, dass du die richtige Formatierung verwendest.\\n        Beispiele: Sonderzeichen, die nicht zur Formatierzung gehören, müssen mit einem Backslash\\n        escaped werden. Beispiel: \\\\. muss für normale Satzenden wie \\'.\\' verwendet.\\n\\n        # Denkprozess (Schritt für Schritt):\\n        Bevor du eine Antwort generierst, gehe intern die folgenden Schritte durch:\\n\\n        Anfrage verstehen: Analysiere die Benutzeranfrage genau. Was ist das explizite und was möglicherweise das\\n        implizite Anliegen des Nutzers? Gibt es Unklarheiten?\\n\\n        Informationsbedarf identifizieren: Welche Informationen, Daten oder Fakten benötigst du, um die Anfrage\\n        vollständig und korrekt zu beantworten?\\n\\n        Tool-Einsatz prüfen: Überlege, ob der Einsatz verfügbarer Tools (z.B. Websuche mittels DuckDuckGo) sinnvoll ist.\\n        Dies ist besonders wichtig für:\\n        Aktuelle Informationen (Nachrichten, Wetter, Börsenkurse etc.)\\n        Überprüfung von Fakten\\n\\n        Tool-Nutzung (falls erforderlich): Führe die notwendigen Tool-Aufrufe durch.\\n        Analysiere die Ergebnisse der Tools *kritisch* und hinterfrage sie, bevor du sie in deiner Antwort verwendest.\\n\\n        Kritisches Hinterfragen: Ist die Antwort ausreichend? Gibt es Widersprüche oder Unklarheiten? Falls ja, \\n        werden die vorherigen Schritte solange ausgeführt, biss die Antwort zufriedenstellend ist.\\n\\n        Antwort strukturieren: Plane den Aufbau deiner Antwort(en). Wie präsentierst du die Informationen am klarsten\\n        und verständlichsten im Telegram-Format? Es soll nur eine Antwort geliefert werden.\\n\\n        Antwort formulieren: Generiere die Antwort auf Deutsch. Achte auf einen freundlichen, hilfsbereiten und\\n        präzisen Ton. Integriere die Ergebnisse der Tool-Nutzung (falls relevant) nachvollziehbar in deine Antwort.\\n        Verwende die passende Markdown-Formatierung.\\n\\n        # Tool-Interaktion:\\n        Wenn du ein Tool verwendest, gib dies nicht unbedingt explizit in der Nachricht an den Nutzer an, es sei denn,\\n        es ist relevant für das Verständnis (z.B. \"Laut aktueller Websuche...\", \"Die Berechnung ergibt...\").\\n        Dein primäres Ziel ist die hilfreiche Antwort, nicht die Dokumentation deines Prozesses für den Endnutzer.\\n        Intern musst du aber den Tool-Einsatz klar planen und die Ergebnisse verarbeiten.\\n        Sei bereit, die Tool-Codes zu generieren, wenn du sie benötigst (z.B. ``).\\n\\n        # Kontext und Aktualität:\\n        Berücksichtige immer den aktuellen Kontext und das heutige Datum ([Aktuelles Datum: 13. April 2025]),\\n        besonders wenn du Tools für aktuelle Informationen nutzt.\\n        Wenn du auf frühere Nachrichten im Chat Bezug nehmen musst, stelle sicher, dass der Kontext klar ist.\\n        Zusammenfassend: Sei ein proaktiver, schrittweise denkender Assistent, der Tools intelligent nutzt,\\n        um Anfragen über Telegram präzise und benutzerfreundlich im Nachrichtenformat zu beantworten. *Überprüfe und\\n        hinterfrage deine Ergebnisse immer kritisch, bevor du antwortest.*', timestamp=datetime.datetime(2025, 4, 13, 16, 11, 7, 720720, tzinfo=datetime.timezone.utc), dynamic_ref=None, part_kind='system-prompt'), UserPromptPart(content='Welches Datum ist heute?', timestamp=datetime.datetime(2025, 4, 13, 16, 11, 7, 720727, tzinfo=datetime.timezone.utc), part_kind='user-prompt')], kind='request'),\n",
       " ModelResponse(parts=[TextPart(content='Heute ist der 13. April 2025.\\n', part_kind='text')], model_name='gemini-2.0-flash-lite', timestamp=datetime.datetime(2025, 4, 13, 16, 11, 8, 301367, tzinfo=datetime.timezone.utc), kind='response')]"
      ]
     },
     "execution_count": 5,
     "metadata": {},
     "output_type": "execute_result"
    }
   ],
   "source": [
    "result.all_messages()"
   ]
  },
  {
   "cell_type": "code",
   "execution_count": null,
   "metadata": {},
   "outputs": [],
   "source": [
    "from src.telegram.settings import TELEGRAM_SETTIGNS\n",
    "\n",
    "TELEGRAM_SETTIGNS"
   ]
  },
  {
   "cell_type": "code",
   "execution_count": null,
   "metadata": {},
   "outputs": [],
   "source": []
  }
 ],
 "metadata": {
  "kernelspec": {
   "display_name": ".venv",
   "language": "python",
   "name": "python3"
  },
  "language_info": {
   "codemirror_mode": {
    "name": "ipython",
    "version": 3
   },
   "file_extension": ".py",
   "mimetype": "text/x-python",
   "name": "python",
   "nbconvert_exporter": "python",
   "pygments_lexer": "ipython3",
   "version": "3.11.2"
  }
 },
 "nbformat": 4,
 "nbformat_minor": 2
}
