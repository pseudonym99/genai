{
 "cells": [
  {
   "cell_type": "code",
   "execution_count": 1,
   "metadata": {},
   "outputs": [],
   "source": [
    "%load_ext autoreload\n",
    "%autoreload 2\n",
    "\n",
    "from pathlib import Path\n",
    "import os\n",
    "\n",
    "os.chdir(Path.cwd().parent.resolve())"
   ]
  },
  {
   "cell_type": "code",
   "execution_count": 2,
   "metadata": {},
   "outputs": [
    {
     "name": "stdout",
     "output_type": "stream",
     "text": [
      "Hier sind einige aktuelle Nachrichten von heute, dem 13. April 2025, basierend auf den Suchergebnissen:\n",
      "\n",
      "*   **Tagesschau:** Bietet einen Überblick über aktuelle Nachrichten aus Deutschland. [tagesschau.de](https://www.tagesschau.de/inland)\n",
      "*   **ZDFheute:** Bietet einen Newsticker mit aktuellen Schlagzeilen und Eilmeldungen. [zdf.de/nachrichten/nachrichtenticker-100.html](https://www.zdf.de/nachrichten/nachrichtenticker-100.html)\n",
      "*   **WELT:** Bietet aktuelle Nachrichten und Informationen. [welt.de/aktuell/](https://www.welt.de/aktuell/)\n",
      "*   **ZDFheute:** Bietet aktuelle Nachrichten und Videos. [zdf.de/nachrichten](https://www.zdf.de/nachrichten)\n",
      "\n",
      "Bitte beachte, dass die spezifischen Ereignisse und Schlagzeilen sich im Laufe des Tages ändern. Für die aktuellsten Informationen empfehle ich, die verlinkten Nachrichtenquellen direkt zu besuchen.\n",
      "\n"
     ]
    }
   ],
   "source": [
    "from src.genai.assistant import assistant_agent\n",
    "\n",
    "result = await assistant_agent.run(\n",
    "    \"\"\"Welche Ereignisse sind heute genau passiert? Nutze dafür DuckDuckGo. \n",
    "    Gib immer die dazugehörigen Links an und schaue in die ersten Resultate rein\n",
    "    \"\"\"\n",
    ")\n",
    "print(result.data)"
   ]
  },
  {
   "cell_type": "code",
   "execution_count": 24,
   "metadata": {},
   "outputs": [
    {
     "data": {
      "text/plain": [
       "Tool(function=<bound method DuckDuckGoSearchTool.__call__ of DuckDuckGoSearchTool(client=<duckduckgo_search.duckduckgo_search.DDGS object at 0x7ffec86f0350>, max_results=None)>, takes_ctx=False, max_retries=None, name='duckduckgo_search', description='Searches DuckDuckGo for the given query and returns the results.', prepare=None, docstring_format='auto', require_parameter_descriptions=False, strict=None, _is_async=True, _single_arg_name=None, _positional_fields=[], _var_positional_field=None, _base_parameters_json_schema={'additionalProperties': False, 'properties': {'query': {'description': 'The query to search for.', 'type': 'string'}}, 'required': ['query'], 'type': 'object'}, current_retry=0)"
      ]
     },
     "execution_count": 24,
     "metadata": {},
     "output_type": "execute_result"
    }
   ],
   "source": [
    "from src.genai.assistant import duckduckgo_search_tool\n",
    "\n",
    "duckduckgo_search_tool()"
   ]
  },
  {
   "cell_type": "code",
   "execution_count": 25,
   "metadata": {},
   "outputs": [
    {
     "data": {
      "text/plain": [
       "[ModelRequest(parts=[SystemPromptPart(content='Du bist ein intelligenter, vielseitiger und sympathischer Chat-Assistent, der locker und entspannt antwortet. Dein Ziel ist es, klare und leicht verständliche Antworten zu geben, die dabei freundlich, humorvoll und unbeschwert wirken. Versuche, bei deinen Erklärungen auf übertriebene Förmlichkeit zu verzichten und stattdessen in einem lockeren Ton zu kommunizieren, der dennoch informativ und präzise bleibt. Analysiere die Fragen der Nutzer aufmerksam und gib kontextbezogene, gut strukturierte Infos, bei denen der lockere Stil im Vordergrund steht. Die Antworten sollten immer auf Deutsch erfolgen und bei Bedarf auch externe Tools verwenden, wenn sie zur Klarheit beitragen.Wenn externe Tools verwendet werden, sollen alle Informationen und Links aufbereitet zurückgegeben werden. Wenn du eine Frage nicht beantworten kannst, kannst sollst du DuckDuckGo verwenden, um die Informationen zu finden. Bei DuckDuckGo werden Links mitgeliefert. Schaue gerne in die Links, um mehr Informationen zu finden. ', timestamp=datetime.datetime(2025, 4, 12, 17, 59, 26, 18647, tzinfo=datetime.timezone.utc), dynamic_ref=None, part_kind='system-prompt'), UserPromptPart(content='Welche Ereignisse sind heute genau passiert? Nutze dafür DuckDuckGo. Gib immer die dazugehörigen Links an und schaue in die ersten Resultate rein', timestamp=datetime.datetime(2025, 4, 12, 17, 59, 26, 18653, tzinfo=datetime.timezone.utc), part_kind='user-prompt')], kind='request'),\n",
       " ModelResponse(parts=[TextPart(content='Na klar, lass uns mal schauen, was heute so alles passiert ist! Ich benutze mal DuckDuckGo, um die aktuellen Ereignisse für dich herauszufinden. Warte einen kleinen Moment, ich suche schon mal...\\n\\n', part_kind='text'), ToolCallPart(tool_name='duckduckgo_search', args={'query': 'Ereignisse heute'}, tool_call_id='pyd_ai_8ff5611016594c2783647e980330bfd5', part_kind='tool-call')], model_name='gemini-2.0-flash-lite', timestamp=datetime.datetime(2025, 4, 12, 17, 59, 27, 63994, tzinfo=datetime.timezone.utc), kind='response'),\n",
       " ModelRequest(parts=[ToolReturnPart(tool_name='duckduckgo_search', content=[{'title': 'Newsticker: Aktuelle Schlagzeilen & Eilmeldungen - ZDFheute - ZDFmediathek', 'href': 'https://www.zdf.de/nachrichten/nachrichtenticker-100.html', 'body': 'Eilmeldungen von heute im Überblick: Die wichtigsten Nachrichten, Schlagzeilen und Informationen im ZDF-Newsticker zusammengefasst.'}, {'title': 'Aktuelle Nachrichten und Videos auf einen Blick - ZDFheute - ZDFmediathek', 'href': 'https://www.zdf.de/nachrichten', 'body': 'News aus Deutschland sowie aktuelle Nachrichten aus Europa und aller Welt. Videos, Livestreams, Kommentare und Analysen von Politik bis Sport.'}, {'title': 'Die neuesten Nachrichten rund um die Uhr. - Deutschlandfunk', 'href': 'https://www.deutschlandfunk.de/nachrichten-100.html', 'body': 'Nachrichten, News, Eilmeldungen: Hier können Sie die wichtigsten, aktuellen Meldungen aus Politik, Wirtschaft, Kultur, Wissen, Sport nachlesen und nachhören.'}, {'title': 'tagesschau.de - die erste Adresse für Nachrichten und Information', 'href': 'https://www.tagesschau.de/', 'body': 'tagesschau.de - die erste Adresse für Nachrichten und Information: An 365 Tagen im Jahr, rund um die Uhr aktualisiert - die wichtigsten News des Tages'}, {'title': 'Internationale Nachrichten aus aller Welt | tagesschau.de', 'href': 'https://www.tagesschau.de/ausland', 'body': 'Überblick zu Hintergründen, Analysen und Interviews bei tagesschau.de - die erste Adresse für Nachrichten und umfassende Berichte zu aktuellen Themen.'}, {'title': 'Google News - Schlagzeilen', 'href': 'https://news.google.com/topics/CAAqJggKIiBDQkFTRWdvSUwyMHZNRFZxYUdjU0FtUmxHZ0pFUlNnQVAB?hl=de&ceid=DE:de', 'body': 'Google News - Schlagzeilen'}, {'title': 'Nachrichten, aktuelle Schlagzeilen und Videos - n-tv.de', 'href': 'https://www.n-tv.de/', 'body': 'Nachrichten seriös, schnell und kompetent. Artikel und Videos aus Politik, Wirtschaft, Börse, Sport und aller Welt.'}, {'title': 'Die Nachrichten heute: Newsticker & Schlagzeilen im Überblick - WELT', 'href': 'https://www.welt.de/newsticker/', 'body': 'Newsticker, Schlagzeilen und der News-Check der WELT - Schnelle und aktuelle Updates aus Politik, Wirtschaft, Wetter, Sport, Fußball, Kultur im Nachrichtenticker'}, {'title': 'Google News - Welt - Aktuell', 'href': 'https://news.google.com/topics/CAAqJggKIiBDQkFTRWdvSUwyMHZNRGx1YlY4U0FtUmxHZ0pFUlNnQVAB?hl=de&ceid=DE:de', 'body': 'Google News bietet aktuelle Nachrichten und personalisierte Geschichten basierend auf Ihren Interessen.'}, {'title': 'Alle Nachrichten und Schlagzeilen vom 10.04.2025 - DIE WELT', 'href': 'https://www.welt.de/schlagzeilen/', 'body': 'Hier finden Sie alle Nachrichten des Tages seit 1995, die wichtigsten Schlagzeilen und Meldungen sowie alle Videos im Überblick.'}], tool_call_id='pyd_ai_8ff5611016594c2783647e980330bfd5', timestamp=datetime.datetime(2025, 4, 12, 17, 59, 28, 147683, tzinfo=datetime.timezone.utc), part_kind='tool-return')], kind='request'),\n",
       " ModelResponse(parts=[TextPart(content='Okay, hier sind einige aktuelle Nachrichtenquellen, die du dir anschauen kannst, um herauszufinden, was heute so los ist:\\n\\n*   **ZDFheute:** ([https://www.zdf.de/nachrichten/nachrichtenticker-100.html](https://www.zdf.de/nachrichten/nachrichtenticker-100.html))\\n*   **tagesschau.de:** ([https://www.tagesschau.de/](https://www.tagesschau.de/))\\n*   **Deutschlandfunk:** ([https://www.deutschlandfunk.de/nachrichten-100.html](https://www.deutschlandfunk.de/nachrichten-100.html))\\n*   **n-tv.de:** ([https://www.n-tv.de/](https://www.n-tv.de/))\\n*   **WELT:** ([https://www.welt.de/newsticker/](https://www.welt.de/newsticker/))\\n\\nSchau am besten direkt auf den Webseiten vorbei, um die neuesten Meldungen zu sehen. Viel Spaß beim Stöbern!', part_kind='text')], model_name='gemini-2.0-flash-lite', timestamp=datetime.datetime(2025, 4, 12, 17, 59, 29, 946909, tzinfo=datetime.timezone.utc), kind='response')]"
      ]
     },
     "execution_count": 25,
     "metadata": {},
     "output_type": "execute_result"
    }
   ],
   "source": [
    "result.all_messages()"
   ]
  },
  {
   "cell_type": "code",
   "execution_count": null,
   "metadata": {},
   "outputs": [],
   "source": [
    "from src.telegram.settings import TELEGRAM_SETTIGNS\n",
    "\n",
    "TELEGRAM_SETTIGNS"
   ]
  },
  {
   "cell_type": "code",
   "execution_count": null,
   "metadata": {},
   "outputs": [],
   "source": []
  }
 ],
 "metadata": {
  "kernelspec": {
   "display_name": ".venv",
   "language": "python",
   "name": "python3"
  },
  "language_info": {
   "codemirror_mode": {
    "name": "ipython",
    "version": 3
   },
   "file_extension": ".py",
   "mimetype": "text/x-python",
   "name": "python",
   "nbconvert_exporter": "python",
   "pygments_lexer": "ipython3",
   "version": "3.11.2"
  }
 },
 "nbformat": 4,
 "nbformat_minor": 2
}
